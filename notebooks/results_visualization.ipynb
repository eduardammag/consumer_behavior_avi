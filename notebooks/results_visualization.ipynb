{
 "cells": [
  {
   "cell_type": "code",
   "execution_count": null,
   "id": "22bc91c9",
   "metadata": {
    "vscode": {
     "languageId": "plaintext"
    }
   },
   "outputs": [],
   "source": [
    "import matplotlib.pyplot as plt\n",
    "import seaborn as sns\n",
    "from sklearn.decomposition import PCA\n",
    "\n",
    "# Carregar preferências inferidas\n",
    "z_inferred = model.get_latent_representations(data_loader)\n",
    "\n",
    "# Redução de dimensionalidade para visualização\n",
    "pca = PCA(n_components=2)\n",
    "z_2d = pca.fit_transform(z_inferred)\n",
    "\n",
    "# Plotar clusters de consumidores\n",
    "plt.figure(figsize=(10, 6))\n",
    "sns.scatterplot(x=z_2d[:,0], y=z_2d[:,1], hue=data['product_id'], palette='viridis')\n",
    "plt.title(\"Consumidores Projetados no Espaço Latente\")\n",
    "plt.xlabel(\"Componente Principal 1\")\n",
    "plt.ylabel(\"Componente Principal 2\")\n",
    "plt.show()\n",
    "\n",
    "# Interpretar dimensões latentes\n",
    "product_utils = torch.matmul(model.product_features, model.decoder.weight.t())\n",
    "plt.figure(figsize=(10, 6))\n",
    "sns.heatmap(product_utils.detach().numpy(), cmap='coolwarm')\n",
    "plt.title(\"Utilidade dos Produtos em Cada Dimensão Latente\")\n",
    "plt.xlabel(\"Dimensão Latente\")\n",
    "plt.ylabel(\"Produto ID\")\n",
    "plt.show()"
   ]
  }
 ],
 "metadata": {
  "language_info": {
   "name": "python"
  }
 },
 "nbformat": 4,
 "nbformat_minor": 5
}
