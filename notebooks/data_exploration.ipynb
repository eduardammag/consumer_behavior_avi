{
 "cells": [
  {
   "cell_type": "markdown",
   "id": "caaac18b",
   "metadata": {},
   "source": []
  },
  {
   "cell_type": "markdown",
   "id": "5e0f2ccb",
   "metadata": {},
   "source": [
    "# Análise Exploratória de Dados de Consumo\n",
    "\n",
    "## 1. Carregamento de Dados\n",
    "```python\n",
    "import pandas as pd\n",
    "data = pd.read_csv('../data/consumer_choices.csv')\n",
    "print(data.describe())"
   ]
  },
  {
   "cell_type": "code",
   "execution_count": null,
   "id": "d6541a96",
   "metadata": {
    "vscode": {
     "languageId": "plaintext"
    }
   },
   "outputs": [],
   "source": [
    "plt.figure(figsize=(10,5))\n",
    "sns.countplot(x='product_id', data=data)\n",
    "plt.title('Distribuição de Escolhas por Produto')"
   ]
  },
  {
   "cell_type": "code",
   "execution_count": null,
   "id": "9ae56e6a",
   "metadata": {
    "vscode": {
     "languageId": "plaintext"
    }
   },
   "outputs": [],
   "source": [
    "sns.pairplot(data[['latent_0', 'latent_1', 'latent_2']])"
   ]
  },
  {
   "cell_type": "code",
   "execution_count": null,
   "id": "f1211ae0",
   "metadata": {
    "vscode": {
     "languageId": "plaintext"
    }
   },
   "outputs": [],
   "source": []
  }
 ],
 "metadata": {
  "language_info": {
   "name": "python"
  }
 },
 "nbformat": 4,
 "nbformat_minor": 5
}
